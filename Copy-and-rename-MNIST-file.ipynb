{
 "cells": [
  {
   "cell_type": "code",
   "execution_count": 2,
   "id": "9a621406-4d6b-4090-bc3b-338c8d526ba1",
   "metadata": {},
   "outputs": [
    {
     "name": "stdout",
     "output_type": "stream",
     "text": [
      "File copied from MNIST.ipynb to mnist_task.ipynb\n"
     ]
    }
   ],
   "source": [
    "import shutil\n",
    "\n",
    "# Define the source and destination file paths\n",
    "source_file = 'MNIST.ipynb'\n",
    "destination_file = 'mnist_task.ipynb'\n",
    "\n",
    "# Copy the file\n",
    "shutil.copy(source_file, destination_file)\n",
    "\n",
    "print(f\"File copied from {source_file} to {destination_file}\")\n"
   ]
  },
  {
   "cell_type": "code",
   "execution_count": null,
   "id": "1ec632c5-46c7-4925-aaa8-62026c566680",
   "metadata": {},
   "outputs": [],
   "source": []
  }
 ],
 "metadata": {
  "kernelspec": {
   "display_name": "Python 3 (ipykernel)",
   "language": "python",
   "name": "python3"
  },
  "language_info": {
   "codemirror_mode": {
    "name": "ipython",
    "version": 3
   },
   "file_extension": ".py",
   "mimetype": "text/x-python",
   "name": "python",
   "nbconvert_exporter": "python",
   "pygments_lexer": "ipython3",
   "version": "3.12.3"
  }
 },
 "nbformat": 4,
 "nbformat_minor": 5
}
